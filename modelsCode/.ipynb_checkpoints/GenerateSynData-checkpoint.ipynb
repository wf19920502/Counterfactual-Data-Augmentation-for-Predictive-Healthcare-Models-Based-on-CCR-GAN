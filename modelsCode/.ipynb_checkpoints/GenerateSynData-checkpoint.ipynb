{
 "cells": [
  {
   "cell_type": "code",
   "execution_count": 1,
   "id": "2ef9dc28",
   "metadata": {
    "scrolled": true
   },
   "outputs": [],
   "source": [
    "# %run othertrain.py"
   ]
  },
  {
   "cell_type": "code",
   "execution_count": null,
   "id": "02fcfb2e",
   "metadata": {
    "scrolled": true
   },
   "outputs": [
    {
     "name": "stdout",
     "output_type": "stream",
     "text": [
      "epoch = 19, loss = 0.028122697319639355\n",
      "accuracy = 0.0869914346895075,cmp0 = 0.0,cmp1 = 0.9998462150596954,F1=0.08002954937207585\n",
      "epoch = 39, loss = 0.028252590692749147\n",
      "accuracy = 0.0869914346895075,cmp0 = 0.0,cmp1 = 0.9998462150596954,F1=0.08002954937207585\n",
      "epoch = 59, loss = 0.028225063885513105\n",
      "accuracy = 0.0869914346895075,cmp0 = 0.0,cmp1 = 0.9998462150596954,F1=0.08002954937207585\n",
      "epoch = 79, loss = 0.02822854472814422\n",
      "accuracy = 0.0869914346895075,cmp0 = 0.0,cmp1 = 0.9998462150596954,F1=0.08002954937207585\n",
      "epoch = 99, loss = 0.02818078954557055\n",
      "accuracy = 0.0869914346895075,cmp0 = 0.0,cmp1 = 0.9998462150596954,F1=0.08002954937207585\n"
     ]
    }
   ],
   "source": [
    "%run cycletrain.py"
   ]
  },
  {
   "cell_type": "code",
   "execution_count": null,
   "id": "697c879d",
   "metadata": {},
   "outputs": [],
   "source": [
    "#三列损失分别是 D0 D1 G"
   ]
  },
  {
   "cell_type": "code",
   "execution_count": null,
   "id": "5d1f9c1f",
   "metadata": {},
   "outputs": [],
   "source": [
    "# %run tempcycletrain.py\n"
   ]
  },
  {
   "cell_type": "code",
   "execution_count": null,
   "id": "24e2808f",
   "metadata": {},
   "outputs": [],
   "source": []
  }
 ],
 "metadata": {
  "kernelspec": {
   "display_name": "Python 3 (ipykernel)",
   "language": "python",
   "name": "python3"
  },
  "language_info": {
   "codemirror_mode": {
    "name": "ipython",
    "version": 3
   },
   "file_extension": ".py",
   "mimetype": "text/x-python",
   "name": "python",
   "nbconvert_exporter": "python",
   "pygments_lexer": "ipython3",
   "version": "3.9.17"
  }
 },
 "nbformat": 4,
 "nbformat_minor": 5
}
