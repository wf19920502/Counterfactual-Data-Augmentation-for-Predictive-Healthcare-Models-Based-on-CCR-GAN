{
 "cells": [
  {
   "cell_type": "code",
   "execution_count": 3,
   "id": "85a6ae8f",
   "metadata": {},
   "outputs": [],
   "source": [
    "import numpy as np\n",
    "import pandas as pd\n",
    "from sklearn.model_selection import train_test_split"
   ]
  },
  {
   "cell_type": "code",
   "execution_count": 63,
   "id": "89f4f0ba",
   "metadata": {},
   "outputs": [
    {
     "data": {
      "text/plain": [
       "(10000, 11)"
      ]
     },
     "execution_count": 63,
     "metadata": {},
     "output_type": "execute_result"
    }
   ],
   "source": [
    "data = np.load(\"./data/createdata.npy\")\n",
    "data.shape"
   ]
  },
  {
   "cell_type": "code",
   "execution_count": 64,
   "id": "c55b444f",
   "metadata": {},
   "outputs": [
    {
     "data": {
      "text/plain": [
       "array([1.02523178e+02, 5.82615889e+02, 1.05106720e+05, 1.00000000e+00,\n",
       "       9.18640124e+00, 3.40010257e+05, 6.96438897e+00, 2.38006880e+06,\n",
       "       1.39000000e+02, 3.40106257e+05, 1.00000000e+00])"
      ]
     },
     "execution_count": 64,
     "metadata": {},
     "output_type": "execute_result"
    }
   ],
   "source": [
    "np.max(data,axis=0)"
   ]
  },
  {
   "cell_type": "code",
   "execution_count": 65,
   "id": "bade0179",
   "metadata": {},
   "outputs": [],
   "source": [
    "minmax = lambda data:(data - np.min(data,axis=0))/(np.max(data,axis=0) - np.min(data,axis=0))\n",
    "\n",
    "data[:,:-1] = minmax(data[:,:-1])"
   ]
  },
  {
   "cell_type": "code",
   "execution_count": 66,
   "id": "56bbff80",
   "metadata": {},
   "outputs": [],
   "source": [
    "np.random.seed(1234)\n",
    "train,test = train_test_split(data,train_size=0.7)"
   ]
  },
  {
   "cell_type": "code",
   "execution_count": 67,
   "id": "2e5d4686",
   "metadata": {},
   "outputs": [
    {
     "data": {
      "text/plain": [
       "(7000, 11)"
      ]
     },
     "execution_count": 67,
     "metadata": {},
     "output_type": "execute_result"
    }
   ],
   "source": [
    "train.shape"
   ]
  },
  {
   "cell_type": "code",
   "execution_count": 68,
   "id": "4e4a4021",
   "metadata": {},
   "outputs": [],
   "source": [
    "np.save(\"./data/train\",train)\n",
    "np.save(\"./data/test\",test)"
   ]
  },
  {
   "cell_type": "code",
   "execution_count": 1,
   "id": "b767a8cb",
   "metadata": {},
   "outputs": [
    {
     "ename": "NameError",
     "evalue": "name 'train' is not defined",
     "output_type": "error",
     "traceback": [
      "\u001b[0;31m---------------------------------------------------------------------------\u001b[0m",
      "\u001b[0;31mNameError\u001b[0m                                 Traceback (most recent call last)",
      "Cell \u001b[0;32mIn[1], line 1\u001b[0m\n\u001b[0;32m----> 1\u001b[0m \u001b[43mtrain\u001b[49m[\u001b[38;5;241m-\u001b[39m\u001b[38;5;241m4\u001b[39m]\n",
      "\u001b[0;31mNameError\u001b[0m: name 'train' is not defined"
     ]
    }
   ],
   "source": [
    "train[-4]"
   ]
  },
  {
   "cell_type": "code",
   "execution_count": null,
   "id": "169b68bc",
   "metadata": {},
   "outputs": [],
   "source": [
    "train = np.load(\"./data/train.npy\")\n",
    "train"
   ]
  },
  {
   "cell_type": "code",
   "execution_count": 4,
   "id": "f9518b3c",
   "metadata": {},
   "outputs": [
    {
     "data": {
      "text/plain": [
       "array([[0.58712047, 0.58712047, 0.31392063, ..., 0.2739726 , 0.3737155 ,\n",
       "        1.        ],\n",
       "       [0.38311692, 0.38311692, 0.11766535, ..., 0.38356164, 0.17506987,\n",
       "        1.        ],\n",
       "       [0.45471088, 0.45471088, 0.1757881 , ..., 0.64383562, 0.23650439,\n",
       "        1.        ],\n",
       "       ...,\n",
       "       [0.73564044, 0.73564044, 0.51618323, ..., 0.38356164, 0.56445709,\n",
       "        1.        ],\n",
       "       [0.44899708, 0.44899708, 0.17072246, ..., 0.60273973, 0.2312657 ,\n",
       "        1.        ],\n",
       "       [0.53869814, 0.53869814, 0.25879274, ..., 0.73972603, 0.32002907,\n",
       "        0.        ]])"
      ]
     },
     "execution_count": 4,
     "metadata": {},
     "output_type": "execute_result"
    }
   ],
   "source": [
    "train = np.load(\"./data/train.npy\")\n",
    "train"
   ]
  },
  {
   "cell_type": "code",
   "execution_count": 5,
   "id": "88935a51",
   "metadata": {},
   "outputs": [
    {
     "data": {
      "text/plain": [
       "(7000, 11)"
      ]
     },
     "execution_count": 5,
     "metadata": {},
     "output_type": "execute_result"
    }
   ],
   "source": [
    "train.shape"
   ]
  },
  {
   "cell_type": "code",
   "execution_count": 43,
   "id": "4dd51129",
   "metadata": {},
   "outputs": [
    {
     "data": {
      "text/plain": [
       "array([[ 1.00000000e+00,  7.50000000e+01,  2.20231658e+04,\n",
       "         4.99099514e+01,  6.22881869e+00,  5.68431749e+03,\n",
       "         6.95820812e+00,  3.97872224e+04,  9.40000000e+01,\n",
       "         5.77831749e+03,  1.00000000e+00],\n",
       "       [ 1.00000000e+00,  7.50000000e+01,  2.20231658e+04,\n",
       "         4.22308857e+01,  6.22881869e+00,  5.68431749e+03,\n",
       "         6.95820812e+00,  3.97872224e+04,  9.70000000e+01,\n",
       "         5.78131749e+03,  1.00000000e+00],\n",
       "       [ 1.00000000e+00,  7.50000000e+01,  2.20231658e+04,\n",
       "         4.13692850e+01,  6.22881869e+00,  5.68431749e+03,\n",
       "         6.95820812e+00,  3.97872224e+04,  8.80000000e+01,\n",
       "         5.77231749e+03,  1.00000000e+00],\n",
       "       [ 1.00000000e+00,  7.50000000e+01,  2.20231658e+04,\n",
       "         2.49802571e+01,  6.22881869e+00,  5.68431749e+03,\n",
       "         6.95820812e+00,  3.97872224e+04,  9.30000000e+01,\n",
       "         5.77731749e+03,  1.00000000e+00],\n",
       "       [ 1.00000000e+00,  7.50000000e+01,  2.20231658e+04,\n",
       "         1.92007374e+01,  6.22881869e+00,  5.68431749e+03,\n",
       "         6.95820812e+00,  3.97872224e+04,  9.70000000e+01,\n",
       "         5.78131749e+03,  1.00000000e+00],\n",
       "       [ 1.00000000e+00,  7.50000000e+01,  2.20231658e+04,\n",
       "         3.72559862e+01,  6.22881869e+00,  5.68431749e+03,\n",
       "         6.95820812e+00,  3.97872224e+04,  1.01000000e+02,\n",
       "         5.78531749e+03,  1.00000000e+00],\n",
       "       [ 1.00000000e+00,  7.50000000e+01,  2.20231658e+04,\n",
       "         4.89927802e+01,  6.22881869e+00,  5.68431749e+03,\n",
       "         6.95820812e+00,  3.97872224e+04,  1.10000000e+02,\n",
       "         5.79431749e+03,  1.00000000e+00],\n",
       "       [ 1.00000000e+00,  7.50000000e+01,  2.20231658e+04,\n",
       "         5.99942852e+01,  6.22881869e+00,  5.68431749e+03,\n",
       "         6.95820812e+00,  3.97872224e+04,  1.17000000e+02,\n",
       "         5.80131749e+03,  0.00000000e+00],\n",
       "       [ 1.00000000e+00,  7.50000000e+01,  2.20231658e+04,\n",
       "         1.42119728e+01,  6.22881869e+00,  5.68431749e+03,\n",
       "         6.95820812e+00,  3.97872224e+04,  8.80000000e+01,\n",
       "         5.77231749e+03,  1.00000000e+00],\n",
       "       [ 1.00000000e+00,  7.50000000e+01,  2.20231658e+04,\n",
       "         2.27162540e+01,  6.22881869e+00,  5.68431749e+03,\n",
       "         6.95820812e+00,  3.97872224e+04,  1.00000000e+02,\n",
       "         5.78431749e+03,  1.00000000e+00],\n",
       "       [ 0.00000000e+00,  7.00000000e+01, -2.30000000e+00,\n",
       "         2.76768818e+01,  6.12928302e+00,  4.95424850e+03,\n",
       "         6.95885053e+00,  3.46767395e+04,  9.40000000e+01,\n",
       "         5.04824850e+03,  1.00000000e+00],\n",
       "       [ 0.00000000e+00,  7.00000000e+01, -2.30000000e+00,\n",
       "         4.35179784e+01,  6.12928302e+00,  4.95424850e+03,\n",
       "         6.95885053e+00,  3.46767395e+04,  9.40000000e+01,\n",
       "         5.04824850e+03,  1.00000000e+00],\n",
       "       [ 1.00000000e+00,  7.50000000e+01,  2.20231658e+04,\n",
       "         1.29813429e+01,  6.22881869e+00,  5.68431749e+03,\n",
       "         6.95820812e+00,  3.97872224e+04,  9.60000000e+01,\n",
       "         5.78031749e+03,  1.00000000e+00],\n",
       "       [ 1.00000000e+00,  7.50000000e+01,  2.20231658e+04,\n",
       "         4.47305688e+01,  6.22881869e+00,  5.68431749e+03,\n",
       "         6.95820812e+00,  3.97872224e+04,  1.06000000e+02,\n",
       "         5.79031749e+03,  1.00000000e+00],\n",
       "       [ 0.00000000e+00,  7.00000000e+01, -2.30000000e+00,\n",
       "         6.62873550e+01,  6.12928302e+00,  4.95424850e+03,\n",
       "         6.95885053e+00,  3.46767395e+04,  8.60000000e+01,\n",
       "         5.04024850e+03,  1.00000000e+00],\n",
       "       [ 1.00000000e+00,  7.50000000e+01,  2.20231658e+04,\n",
       "         5.77443532e+01,  6.22881869e+00,  5.68431749e+03,\n",
       "         6.95820812e+00,  3.97872224e+04,  7.30000000e+01,\n",
       "         5.75731749e+03,  1.00000000e+00],\n",
       "       [ 1.00000000e+00,  7.50000000e+01,  2.20231658e+04,\n",
       "         4.14175880e+01,  6.22881869e+00,  5.68431749e+03,\n",
       "         6.95820812e+00,  3.97872224e+04,  9.90000000e+01,\n",
       "         5.78331749e+03,  1.00000000e+00],\n",
       "       [ 1.00000000e+00,  7.50000000e+01,  2.20231658e+04,\n",
       "         5.79469829e+01,  6.22881869e+00,  5.68431749e+03,\n",
       "         6.95820812e+00,  3.97872224e+04,  8.90000000e+01,\n",
       "         5.77331749e+03,  1.00000000e+00],\n",
       "       [ 1.00000000e+00,  7.50000000e+01,  2.20231658e+04,\n",
       "         5.34941315e+01,  6.22881869e+00,  5.68431749e+03,\n",
       "         6.95820812e+00,  3.97872224e+04,  1.05000000e+02,\n",
       "         5.78931749e+03,  1.00000000e+00],\n",
       "       [ 1.00000000e+00,  7.50000000e+01,  2.20231658e+04,\n",
       "         4.59864592e+01,  6.22881869e+00,  5.68431749e+03,\n",
       "         6.95820812e+00,  3.97872224e+04,  9.30000000e+01,\n",
       "         5.77731749e+03,  1.00000000e+00]])"
      ]
     },
     "execution_count": 43,
     "metadata": {},
     "output_type": "execute_result"
    }
   ],
   "source": [
    "data[:20]"
   ]
  },
  {
   "cell_type": "code",
   "execution_count": 61,
   "id": "6ee754de",
   "metadata": {},
   "outputs": [
    {
     "data": {
      "text/plain": [
       "array([105., 103.,  95., ...,  98.,  95.,  93.])"
      ]
     },
     "execution_count": 61,
     "metadata": {},
     "output_type": "execute_result"
    }
   ],
   "source": [
    "data[:,-3]"
   ]
  },
  {
   "cell_type": "code",
   "execution_count": 2,
   "id": "2bc11be8",
   "metadata": {},
   "outputs": [
    {
     "name": "stdout",
     "output_type": "stream",
     "text": [
      "/home/amax/.conda/envs/pytorch/bin/python\r\n"
     ]
    }
   ],
   "source": [
    "!which python"
   ]
  },
  {
   "cell_type": "code",
   "execution_count": null,
   "id": "afbb36ed",
   "metadata": {},
   "outputs": [],
   "source": []
  }
 ],
 "metadata": {
  "kernelspec": {
   "display_name": "Python 3 (ipykernel)",
   "language": "python",
   "name": "python3"
  },
  "language_info": {
   "codemirror_mode": {
    "name": "ipython",
    "version": 3
   },
   "file_extension": ".py",
   "mimetype": "text/x-python",
   "name": "python",
   "nbconvert_exporter": "python",
   "pygments_lexer": "ipython3",
   "version": "3.9.17"
  }
 },
 "nbformat": 4,
 "nbformat_minor": 5
}
