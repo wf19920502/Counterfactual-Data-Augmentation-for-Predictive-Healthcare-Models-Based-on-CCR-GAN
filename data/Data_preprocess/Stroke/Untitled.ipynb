{
 "cells": [
  {
   "cell_type": "code",
   "execution_count": 1,
   "id": "1389fd24",
   "metadata": {},
   "outputs": [],
   "source": [
    "import numpy as np"
   ]
  },
  {
   "cell_type": "code",
   "execution_count": 2,
   "id": "ae2fcdfe",
   "metadata": {},
   "outputs": [],
   "source": [
    "data =np.load(\"stroke_train.npy\")"
   ]
  },
  {
   "cell_type": "code",
   "execution_count": 3,
   "id": "e8d2243d",
   "metadata": {},
   "outputs": [
    {
     "data": {
      "text/plain": [
       "array([[1.        , 0.        , 1.        , ..., 0.2855692 , 0.17983963,\n",
       "        0.        ],\n",
       "       [1.        , 0.        , 1.        , ..., 0.62413443, 0.2416953 ,\n",
       "        1.        ],\n",
       "       [0.        , 1.        , 1.        , ..., 0.88897609, 0.28407789,\n",
       "        0.        ],\n",
       "       ...,\n",
       "       [0.        , 1.        , 1.        , ..., 0.01246422, 0.21191294,\n",
       "        0.        ],\n",
       "       [1.        , 0.        , 1.        , ..., 0.01592651, 0.15922108,\n",
       "        1.        ],\n",
       "       [1.        , 0.        , 1.        , ..., 0.04140892, 0.17182131,\n",
       "        0.        ]])"
      ]
     },
     "execution_count": 3,
     "metadata": {},
     "output_type": "execute_result"
    }
   ],
   "source": [
    "data"
   ]
  },
  {
   "cell_type": "code",
   "execution_count": 4,
   "id": "3d9bef98",
   "metadata": {},
   "outputs": [
    {
     "data": {
      "text/plain": [
       "(3420, 22)"
      ]
     },
     "execution_count": 4,
     "metadata": {},
     "output_type": "execute_result"
    }
   ],
   "source": [
    "data.shape\n"
   ]
  },
  {
   "cell_type": "code",
   "execution_count": 5,
   "id": "b1f66143",
   "metadata": {},
   "outputs": [
    {
     "name": "stdout",
     "output_type": "stream",
     "text": [
      "/home/amax/Documents/Seagate4T/GAN/fanshishi/data/Data_preprocess/Stroke\r\n"
     ]
    }
   ],
   "source": [
    "!pwd\n"
   ]
  },
  {
   "cell_type": "code",
   "execution_count": null,
   "id": "78421f22",
   "metadata": {},
   "outputs": [],
   "source": []
  }
 ],
 "metadata": {
  "kernelspec": {
   "display_name": "Python 3 (ipykernel)",
   "language": "python",
   "name": "python3"
  },
  "language_info": {
   "codemirror_mode": {
    "name": "ipython",
    "version": 3
   },
   "file_extension": ".py",
   "mimetype": "text/x-python",
   "name": "python",
   "nbconvert_exporter": "python",
   "pygments_lexer": "ipython3",
   "version": "3.9.17"
  }
 },
 "nbformat": 4,
 "nbformat_minor": 5
}
